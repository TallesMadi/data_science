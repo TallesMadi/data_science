{
 "cells": [
  {
   "cell_type": "markdown",
   "id": "df65cb9e",
   "metadata": {},
   "source": [
    "SciPy e SymPy"
   ]
  },
  {
   "cell_type": "code",
   "execution_count": 2,
   "id": "87ec4fb0",
   "metadata": {},
   "outputs": [],
   "source": [
    "from scipy import special"
   ]
  },
  {
   "cell_type": "code",
   "execution_count": 3,
   "id": "06e5e063",
   "metadata": {},
   "outputs": [
    {
     "name": "stdout",
     "output_type": "stream",
     "text": [
      "1000.0\n"
     ]
    }
   ],
   "source": [
    "a = special.exp10(3)\n",
    "print(a)"
   ]
  },
  {
   "cell_type": "code",
   "execution_count": 4,
   "id": "50fcbb93",
   "metadata": {},
   "outputs": [
    {
     "name": "stdout",
     "output_type": "stream",
     "text": [
      "8.0\n"
     ]
    }
   ],
   "source": [
    "b = special.exp2(3)\n",
    "print(b)"
   ]
  },
  {
   "cell_type": "code",
   "execution_count": 5,
   "id": "a92cf914",
   "metadata": {},
   "outputs": [
    {
     "data": {
      "text/plain": [
       "np.float64(0.7071067811865475)"
      ]
     },
     "execution_count": 5,
     "metadata": {},
     "output_type": "execute_result"
    }
   ],
   "source": [
    "#cosseno do angulo x dado em graus\n",
    "special.cosdg(45)"
   ]
  },
  {
   "cell_type": "code",
   "execution_count": 6,
   "id": "cbdfb96e",
   "metadata": {},
   "outputs": [
    {
     "name": "stdout",
     "output_type": "stream",
     "text": [
      "(3.9086503371292665, 4.3394735994897923e-14)\n"
     ]
    }
   ],
   "source": [
    "from scipy import integrate\n",
    "a = lambda x: special.exp10(x)\n",
    "b = integrate.quad(a, 0, 1)\n",
    "print(b)\n",
    "# resultado da integral n primeiro termo e o erro estimado no segundo termo"
   ]
  },
  {
   "cell_type": "code",
   "execution_count": 7,
   "id": "4a12091b",
   "metadata": {},
   "outputs": [
    {
     "data": {
      "text/plain": [
       "(0.6666666666666667, 7.401486830834377e-15)"
      ]
     },
     "execution_count": 7,
     "metadata": {},
     "output_type": "execute_result"
    }
   ],
   "source": [
    "# 0 e 2 como limites de integração de x e 0 e 1 como limite deintegração de y\n",
    "f = lambda y, x: x*y**2\n",
    "integrate.dblquad(f, 0, 2, 0, 1)"
   ]
  },
  {
   "cell_type": "code",
   "execution_count": 8,
   "id": "076515b8",
   "metadata": {},
   "outputs": [],
   "source": [
    "import sympy"
   ]
  },
  {
   "cell_type": "code",
   "execution_count": 10,
   "id": "79a1fe51",
   "metadata": {},
   "outputs": [
    {
     "data": {
      "text/latex": [
       "$\\displaystyle \\left|{x}\\right|$"
      ],
      "text/plain": [
       "Abs(x)"
      ]
     },
     "execution_count": 10,
     "metadata": {},
     "output_type": "execute_result"
    }
   ],
   "source": [
    "x1 = sympy.symbols('x', real=True)\n",
    "eq1 = abs(x1)\n",
    "eq1"
   ]
  },
  {
   "cell_type": "code",
   "execution_count": 11,
   "id": "bda93114",
   "metadata": {},
   "outputs": [
    {
     "data": {
      "text/latex": [
       "$\\displaystyle x^{2} + 2 x - 3$"
      ],
      "text/plain": [
       "x**2 + 2*x - 3"
      ]
     },
     "execution_count": 11,
     "metadata": {},
     "output_type": "execute_result"
    }
   ],
   "source": [
    "x2 = sympy.symbols('x')\n",
    "y = x2 ** 2 + 2 * x2 - 3\n",
    "y"
   ]
  },
  {
   "cell_type": "code",
   "execution_count": 12,
   "id": "20748702",
   "metadata": {},
   "outputs": [
    {
     "name": "stdout",
     "output_type": "stream",
     "text": [
      "[-1, 1]\n"
     ]
    }
   ],
   "source": [
    "result = sympy.solve(sympy.Eq(eq1, 1))\n",
    "print(result)"
   ]
  },
  {
   "cell_type": "code",
   "execution_count": 13,
   "id": "699ed37f",
   "metadata": {},
   "outputs": [
    {
     "name": "stdout",
     "output_type": "stream",
     "text": [
      "[-1 + sqrt(5), -sqrt(5) - 1]\n"
     ]
    }
   ],
   "source": [
    "result = sympy.solve(sympy.Eq(y, 1))\n",
    "print(result)"
   ]
  },
  {
   "cell_type": "code",
   "execution_count": 14,
   "id": "fa1c8226",
   "metadata": {},
   "outputs": [
    {
     "data": {
      "text/latex": [
       "$\\displaystyle \\sum_{i=1}^{k} x^{i}$"
      ],
      "text/plain": [
       "Sum(x**i, (i, 1, k))"
      ]
     },
     "execution_count": 14,
     "metadata": {},
     "output_type": "execute_result"
    }
   ],
   "source": [
    "x = sympy.symbols('x')\n",
    "i, j, k  = sympy.symbols('i, j, k', integer=True)\n",
    "sympy.Sum(x**i, (i, 1, k))"
   ]
  },
  {
   "cell_type": "code",
   "execution_count": 15,
   "id": "428fb5d7",
   "metadata": {},
   "outputs": [
    {
     "data": {
      "text/latex": [
       "$\\displaystyle \\frac{1}{2}$"
      ],
      "text/plain": [
       "1/2"
      ]
     },
     "execution_count": 15,
     "metadata": {},
     "output_type": "execute_result"
    }
   ],
   "source": [
    "sympy.Rational(1, 2)"
   ]
  },
  {
   "cell_type": "code",
   "execution_count": 16,
   "id": "59704d68",
   "metadata": {},
   "outputs": [
    {
     "data": {
      "text/latex": [
       "$\\displaystyle \\prod_{i=1}^{k - 1} \\left(i + x\\right)$"
      ],
      "text/plain": [
       "Product(i + x, (i, 1, k - 1))"
      ]
     },
     "execution_count": 16,
     "metadata": {},
     "output_type": "execute_result"
    }
   ],
   "source": [
    "sympy.Product(x+i, (i, 1, k-1))"
   ]
  },
  {
   "cell_type": "code",
   "execution_count": 17,
   "id": "aec200ba",
   "metadata": {},
   "outputs": [
    {
     "data": {
      "text/latex": [
       "$\\displaystyle e^{5}$"
      ],
      "text/plain": [
       "exp(5)"
      ]
     },
     "execution_count": 17,
     "metadata": {},
     "output_type": "execute_result"
    }
   ],
   "source": [
    "sympy.exp(5)"
   ]
  },
  {
   "cell_type": "code",
   "execution_count": 20,
   "id": "256a39a1",
   "metadata": {},
   "outputs": [
    {
     "data": {
      "text/latex": [
       "$\\displaystyle \\left(- a + x\\right) \\left(- b + x\\right)$"
      ],
      "text/plain": [
       "(-a + x)*(-b + x)"
      ]
     },
     "execution_count": 20,
     "metadata": {},
     "output_type": "execute_result"
    }
   ],
   "source": [
    "x = sympy.symbols('x')\n",
    "a, b = sympy.symbols('a, b', integer=True)\n",
    "d = (x-a)*(x-b)\n",
    "d"
   ]
  },
  {
   "cell_type": "code",
   "execution_count": 21,
   "id": "5f5cabfb",
   "metadata": {},
   "outputs": [
    {
     "data": {
      "text/latex": [
       "$\\displaystyle a b - a x - b x + x^{2}$"
      ],
      "text/plain": [
       "a*b - a*x - b*x + x**2"
      ]
     },
     "execution_count": 21,
     "metadata": {},
     "output_type": "execute_result"
    }
   ],
   "source": [
    "sympy.expand(d)"
   ]
  },
  {
   "cell_type": "code",
   "execution_count": 22,
   "id": "cce0fb91",
   "metadata": {},
   "outputs": [
    {
     "data": {
      "text/latex": [
       "$\\displaystyle \\left(a - x\\right) \\left(b - x\\right)$"
      ],
      "text/plain": [
       "(a - x)*(b - x)"
      ]
     },
     "execution_count": 22,
     "metadata": {},
     "output_type": "execute_result"
    }
   ],
   "source": [
    "sympy.simplify(d)"
   ]
  },
  {
   "cell_type": "code",
   "execution_count": 23,
   "id": "78171e74",
   "metadata": {},
   "outputs": [
    {
     "data": {
      "text/latex": [
       "$\\displaystyle a x^{2} + b x = c$"
      ],
      "text/plain": [
       "Eq(a*x**2 + b*x, c)"
      ]
     },
     "execution_count": 23,
     "metadata": {},
     "output_type": "execute_result"
    }
   ],
   "source": [
    "c = sympy.symbols('c', integer=True)\n",
    "sympy.Eq(a * x ** 2 + b * x, c)"
   ]
  }
 ],
 "metadata": {
  "kernelspec": {
   "display_name": "venv",
   "language": "python",
   "name": "python3"
  },
  "language_info": {
   "codemirror_mode": {
    "name": "ipython",
    "version": 3
   },
   "file_extension": ".py",
   "mimetype": "text/x-python",
   "name": "python",
   "nbconvert_exporter": "python",
   "pygments_lexer": "ipython3",
   "version": "3.13.1"
  }
 },
 "nbformat": 4,
 "nbformat_minor": 5
}
